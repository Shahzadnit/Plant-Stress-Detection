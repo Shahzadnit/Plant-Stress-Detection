{
 "cells": [
  {
   "cell_type": "code",
   "execution_count": 3,
   "metadata": {},
   "outputs": [],
   "source": [
    "import numpy\n",
    "import cv2\n",
    "import csv"
   ]
  },
  {
   "cell_type": "code",
   "execution_count": 4,
   "metadata": {},
   "outputs": [],
   "source": [
    "def write_rows(img, label, output):\n",
    "    hsv = cv2.cvtColor(img, cv2.COLOR_BGR2HSV)\n",
    "    blur3 = cv2.GaussianBlur(hsv, (3,3), 0)\n",
    "    blur5 = cv2.GaussianBlur(hsv, (5,5), 0)\n",
    "    blur7 = cv2.GaussianBlur(hsv, (7,7), 0)\n",
    "    height, width, channels = hsv.shape\n",
    "\n",
    "    for j in range(height):\n",
    "        for i in range(width):\n",
    "            r, g, b = img[j, i]\n",
    "            h, s, v = hsv[j, i]\n",
    "            h_blur3 = blur3[j, i, 0]\n",
    "            h_blur5 = blur5[j, i, 0]\n",
    "            h_blur7 = blur7[j, i, 0]\n",
    "            label_number = 0 if (label[j, i] == [0, 0, 0]).all() else 1\n",
    "            output.writerow([h, s, v, h_blur3, h_blur5, h_blur7, label_number])\n"
   ]
  },
  {
   "cell_type": "code",
   "execution_count": 5,
   "metadata": {},
   "outputs": [],
   "source": [
    "def create_csv(num_img, file_name):\n",
    "    file = open(file_name + '.csv', 'w')\n",
    "    output = csv.writer(file)\n",
    "    output.writerow(['h', 's', 'v', 'h_blur3', 'h_blur5', 'h_blur7', 'label'])\n",
    "\n",
    "    for i in range(1, num_img + 1):\n",
    "        img_path = 'images/train images/img{}.jpg'.format(i)\n",
    "        img = cv2.imread(img_path)\n",
    "        label_path = 'images/train images/img{}_label.jpg'.format(i)\n",
    "        label = cv2.imread(label_path)\n",
    "        write_rows(img, label, output)"
   ]
  },
  {
   "cell_type": "code",
   "execution_count": 6,
   "metadata": {},
   "outputs": [],
   "source": [
    "create_csv(4, 'dataframe')"
   ]
  },
  {
   "cell_type": "code",
   "execution_count": null,
   "metadata": {},
   "outputs": [],
   "source": []
  }
 ],
 "metadata": {
  "kernelspec": {
   "display_name": "Python 3",
   "language": "python",
   "name": "python3"
  },
  "language_info": {
   "codemirror_mode": {
    "name": "ipython",
    "version": 3
   },
   "file_extension": ".py",
   "mimetype": "text/x-python",
   "name": "python",
   "nbconvert_exporter": "python",
   "pygments_lexer": "ipython3",
   "version": "3.6.5"
  }
 },
 "nbformat": 4,
 "nbformat_minor": 2
}

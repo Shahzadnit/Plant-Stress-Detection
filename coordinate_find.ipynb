{
 "cells": [
  {
   "cell_type": "code",
   "execution_count": 1,
   "metadata": {},
   "outputs": [],
   "source": [
    "import numpy as np\n",
    "from osgeo import gdal\n",
    "#import sys\n",
    "#import matplotlib.mlab as mlab\n",
    "import matplotlib.pyplot as plt\n",
    "import scipy\n",
    "from scipy import signal\n",
    "from scipy.misc import toimage\n",
    "import cv2\n",
    "from PIL import Image, ImageEnhance\n",
    "from gdal import Open\n",
    "import os\n",
    "import csv\n",
    "from skimage import data, io, filters, morphology, img_as_ubyte\n",
    "import statistics\n",
    "import math\n",
    "import random\n",
    "from shapely.geometry import Point, Polygon"
   ]
  },
  {
   "cell_type": "code",
   "execution_count": 2,
   "metadata": {},
   "outputs": [],
   "source": [
    "def all_inte_coord(paint1):\n",
    "    paint_gr=paint1.copy()\n",
    "    paint_red=paint1.copy()\n",
    "    paint_yel=paint1.copy()\n",
    "    for i in range(paint1.shape[0]):\n",
    "        for j in range(paint1.shape[1]):\n",
    "            if not(paint_gr[i,j,2]<36 and paint_gr[i,j,2]>32 and paint_gr[i,j,1]<180 and paint_gr[i,j,1]>175 and paint_gr[i,j,0]<78 and paint_gr[i,j,0]>74):\n",
    "                paint_gr[i,j,0]=0\n",
    "                paint_gr[i,j,1]=0\n",
    "                paint_gr[i,j,2]=0\n",
    "            else:\n",
    "                paint_gr[i,j,0]=255\n",
    "                paint_gr[i,j,1]=255\n",
    "                paint_gr[i,j,2]=255\n",
    "    for i in range(paint1.shape[0]):\n",
    "        for j in range(paint1.shape[1]):\n",
    "            if not(paint_red[i,j,2]<240 and paint_red[i,j,2]>235 and paint_red[i,j,1]<32 and paint_red[i,j,1]>25 and paint_red[i,j,0]<38 and paint_red[i,j,0]>34):\n",
    "                paint_red[i,j,0]=0\n",
    "                paint_red[i,j,1]=0\n",
    "                paint_red[i,j,2]=0\n",
    "            else:\n",
    "                paint_red[i,j,0]=255\n",
    "                paint_red[i,j,1]=255\n",
    "                paint_red[i,j,2]=255\n",
    "    for i in range(paint1.shape[0]):\n",
    "        for j in range(paint1.shape[1]):\n",
    "            if not(paint_yel[i,j,2]<=255 and paint_yel[i,j,2]>250 and paint_yel[i,j,1]<245 and paint_yel[i,j,1]>238 and paint_yel[i,j,0]<5 and paint_yel[i,j,0]>=0):\n",
    "                paint_yel[i,j,0]=0\n",
    "                paint_yel[i,j,1]=0\n",
    "                paint_yel[i,j,2]=0\n",
    "            else:\n",
    "                paint_yel[i,j,0]=255\n",
    "                paint_yel[i,j,1]=255\n",
    "                paint_yel[i,j,2]=255           \n",
    "    gre_coord=int_coord(paint_gr)\n",
    "    red_coord=int_coord(paint_red)\n",
    "    yel_coord=int_coord(paint_yel)\n",
    "    return(gre_coord,red_coord,yel_coord)"
   ]
  },
  {
   "cell_type": "code",
   "execution_count": 3,
   "metadata": {},
   "outputs": [],
   "source": [
    "import random\n",
    "from shapely.geometry import Point, Polygon\n",
    "def get_random_point_in_polygon(poly):\n",
    "    (minx, miny, maxx, maxy) = poly.bounds\n",
    "    while True:\n",
    "        p = Point(random.uniform(minx, maxx), random.uniform(miny, maxy))\n",
    "        if poly.contains(p):\n",
    "            return p"
   ]
  },
  {
   "cell_type": "code",
   "execution_count": 4,
   "metadata": {},
   "outputs": [],
   "source": [
    "def int_coord(paint2):\n",
    "    gray_image = cv2.cvtColor(paint2, cv2.COLOR_BGR2GRAY)\n",
    "    th, im_th = cv2.threshold(gray_image, 10, 255, cv2.THRESH_BINARY);\n",
    "    im_floodfill = im_th.copy()\n",
    "    h, w = im_th.shape[:2]\n",
    "    mask = np.zeros((h+2, w+2), np.uint8)\n",
    "    y=cv2.floodFill(im_floodfill, mask, (0,0), 255);\n",
    "    im_floodfill_inv = cv2.bitwise_not(im_floodfill)\n",
    "    im_out = im_th | im_floodfill_inv\n",
    "    _ , img = cv2.threshold(im_out,0,255,cv2.THRESH_BINARY)\n",
    "    edges = cv2.Canny(img,10,20)\n",
    "    image,contours,hierarchy = cv2.findContours(edges, 1, 1)\n",
    "    cv2.imwrite(\"check.jpg\",image)\n",
    "    cont=[]\n",
    "    check=[]\n",
    "    i=0\n",
    "    for i in range(len(contours)):\n",
    "        M=cv2.moments(contours[i])\n",
    "        if(M['m00']!=0):\n",
    "            cx=int(M['m10']/M['m00'])\n",
    "            cy=int(M['m01']/M['m00'])\n",
    "        else:\n",
    "            cx=0\n",
    "            cy=0\n",
    "        if not ([cx,cy] in check):\n",
    "            check.extend([[cx,cy]])\n",
    "    \n",
    "    return(check);    \n",
    "            \n",
    "        \n",
    "            \n",
    "    "
   ]
  },
  {
   "cell_type": "code",
   "execution_count": 5,
   "metadata": {},
   "outputs": [],
   "source": [
    "img=cv2.imread(\"paint.jpg\")\n",
    "g,r,y=all_inte_coord(img)"
   ]
  },
  {
   "cell_type": "code",
   "execution_count": 9,
   "metadata": {},
   "outputs": [
    {
     "name": "stdout",
     "output_type": "stream",
     "text": [
      "0 0 399\n"
     ]
    }
   ],
   "source": [
    "print(len(g),len(y),len(r))"
   ]
  },
  {
   "cell_type": "code",
   "execution_count": null,
   "metadata": {},
   "outputs": [],
   "source": []
  }
 ],
 "metadata": {
  "kernelspec": {
   "display_name": "Python 3",
   "language": "python",
   "name": "python3"
  },
  "language_info": {
   "codemirror_mode": {
    "name": "ipython",
    "version": 3
   },
   "file_extension": ".py",
   "mimetype": "text/x-python",
   "name": "python",
   "nbconvert_exporter": "python",
   "pygments_lexer": "ipython3",
   "version": "3.6.5"
  }
 },
 "nbformat": 4,
 "nbformat_minor": 2
}
